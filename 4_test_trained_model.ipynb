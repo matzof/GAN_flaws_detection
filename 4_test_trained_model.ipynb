{
 "cells": [
  {
   "cell_type": "code",
   "execution_count": null,
   "metadata": {},
   "outputs": [],
   "source": [
    "import cv2\n",
    "import numpy as np\n",
    "import os\n",
    "import matplotlib.pyplot as plt\n",
    "import shutil\n",
    "\n",
    "from keras.models import model_from_json"
   ]
  },
  {
   "cell_type": "code",
   "execution_count": null,
   "metadata": {},
   "outputs": [],
   "source": [
    "# DIRECTORIES\n",
    "PATH = ''\n",
    "path_cad_generated = PATH + \"data/cad_generated/\"\n",
    "path_cad_pics = PATH + \"data/cad_pictures/\"\n",
    "path_models = PATH + 'models/'\n",
    "path_bad = PATH + \"data/real_pictures/Bad/\"\n",
    "path_real_pics = PATH + \"data/real_pictures/All/\"\n",
    "path_features = PATH + \"data/features/\"\n",
    "\n",
    "shutil.rmtree(path_cad_generated) # Delete previous directory with its contents\n",
    "os.makedirs(path_cad_generated)"
   ]
  },
  {
   "cell_type": "code",
   "execution_count": null,
   "metadata": {},
   "outputs": [],
   "source": [
    "# Load Generator model\n",
    "# load json and create model\n",
    "json_file = open(path_models + 'generator.json', 'r')\n",
    "loaded_model_json = json_file.read()\n",
    "json_file.close()\n",
    "generator = model_from_json(loaded_model_json)\n",
    "# load weights into new model\n",
    "generator.load_weights(path_models + \"generator_weights.h5\")\n",
    "print(\"Loaded Generator model from disk\")"
   ]
  },
  {
   "cell_type": "code",
   "execution_count": null,
   "metadata": {},
   "outputs": [],
   "source": [
    "# load mobilenet model\n",
    "mobilenet = MobileNet(weights='imagenet', include_top=False,\n",
    "                       input_shape=(img_width, img_height, 3))"
   ]
  },
  {
   "cell_type": "code",
   "execution_count": null,
   "metadata": {},
   "outputs": [],
   "source": [
    "# Load Convolutional model\n",
    "# load json and create model\n",
    "json_file = open(path_models + 'convolutional.json', 'r')\n",
    "loaded_model_json = json_file.read()\n",
    "json_file.close()\n",
    "convolutional = model_from_json(loaded_model_json)\n",
    "# load weights into new model\n",
    "convolutional.load_weights(path_models + \"convolutional_weights.h5\")\n",
    "print(\"Loaded Convolutional model from disk\")"
   ]
  },
  {
   "cell_type": "code",
   "execution_count": null,
   "metadata": {},
   "outputs": [],
   "source": [
    "def load_and_extract_features(path_image, img_width, img_height):\n",
    "    image = cv2.imread(path_image, cv2.IMREAD_COLOR)\n",
    "    image = cv2.resize(image, (img_width, img_height))\n",
    "    features = mobilenet.predict(image.reshape(1, img_width, img_height, 3))\n",
    "    return features"
   ]
  },
  {
   "cell_type": "code",
   "execution_count": null,
   "metadata": {},
   "outputs": [],
   "source": [
    "for real_img_name in os.listdir(path_real_pics):\n",
    "    real_img = load_and_extract_features()\n",
    "    for gen_img_name in os.listdir(path_cad_generated):\n",
    "        if gen_img_name[:-4] in real_img_name:"
   ]
  }
 ],
 "metadata": {
  "kernelspec": {
   "display_name": "Python 3.8.2 64-bit ('venv': conda)",
   "language": "python",
   "name": "python38264bitvenvconda647c0e0d86bc4c369b9338851a20503c"
  },
  "language_info": {
   "codemirror_mode": {
    "name": "ipython",
    "version": 3
   },
   "file_extension": ".py",
   "mimetype": "text/x-python",
   "name": "python",
   "nbconvert_exporter": "python",
   "pygments_lexer": "ipython3",
   "version": "3.8.2"
  }
 },
 "nbformat": 4,
 "nbformat_minor": 4
}
