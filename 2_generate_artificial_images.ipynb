{
 "cells": [
  {
   "cell_type": "code",
   "execution_count": 29,
   "metadata": {},
   "outputs": [],
   "source": [
    "import cv2\n",
    "import numpy as np\n",
    "import os\n",
    "import matplotlib.pyplot as plt\n",
    "import shutil\n",
    "\n",
    "from keras.models import model_from_json"
   ]
  },
  {
   "cell_type": "code",
   "execution_count": 30,
   "metadata": {},
   "outputs": [],
   "source": [
    "# DIRECTORIES\n",
    "PATH = ''\n",
    "path_cad_generated = PATH + \"data/cad_generated/\"\n",
    "path_cad_pics = PATH + \"data/cad_pictures/\"\n",
    "path_models = PATH + 'models/'\n",
    "\n",
    "shutil.rmtree(path_cad_generated) # Delete previous directory with its contents\n",
    "os.makedirs(path_cad_generated)"
   ]
  },
  {
   "cell_type": "code",
   "execution_count": 31,
   "metadata": {},
   "outputs": [
    {
     "name": "stdout",
     "output_type": "stream",
     "text": [
      "Loaded Generator model from disk\n"
     ]
    }
   ],
   "source": [
    "# Load Generator model\n",
    "# load json and create model\n",
    "json_file = open(path_models + 'generator.json', 'r')\n",
    "loaded_model_json = json_file.read()\n",
    "json_file.close()\n",
    "generator = model_from_json(loaded_model_json)\n",
    "# load weights into new model\n",
    "generator.load_weights(path_models + \"generator_weights.h5\")\n",
    "print(\"Loaded Generator model from disk\")"
   ]
  },
  {
   "cell_type": "code",
   "execution_count": 32,
   "metadata": {},
   "outputs": [],
   "source": [
    "def normalize(image):\n",
    "    # normalize the images to [-1, 1]\n",
    "    image = (image / 127.5) - 1\n",
    "    return image"
   ]
  },
  {
   "cell_type": "code",
   "execution_count": 33,
   "metadata": {},
   "outputs": [
    {
     "name": "stdout",
     "output_type": "stream",
     "text": [
      "base.png\n",
      "bishop_down.png\n",
      "bishop_up.png\n",
      "circle_base.png\n",
      "double_horse.png\n",
      "hex_base.png\n",
      "horse_down_left.png\n",
      "horse_down_right.png\n",
      "horse_up.png\n",
      "king_down.png\n",
      "king_up.png\n",
      "pawn_down.png\n",
      "pawn_up.png\n",
      "queen_down.png\n",
      "queen_up.png\n",
      "tower_down.png\n",
      "tower_up.png\n",
      "weird_horse_up.png\n",
      "weird_king.png\n",
      "weird_pawn.png\n",
      "weird_queen_left.png\n",
      "weird_queen_right.png\n",
      "weird_tower.png\n"
     ]
    }
   ],
   "source": [
    "for filename in os.listdir(path_cad_pics):\n",
    "    if \".png\" in filename:\n",
    "        cad_img = cv2.imread(path_cad_pics + filename, cv2.IMREAD_COLOR)\n",
    "        cad_img = normalize(cv2.resize(cad_img, (256, 256)))\n",
    "        gen_img = generator(cad_img[np.newaxis, ...], training=True)\n",
    "        \n",
    "        plt.figure(figsize=(5,5))\n",
    "        plt.imshow(gen_img[0] * 0.5 + 0.5)\n",
    "        plt.axis('off')\n",
    "        plt.savefig(path_cad_generated + filename)\n",
    "        plt.close()\n",
    "        print(filename)"
   ]
  },
  {
   "cell_type": "code",
   "execution_count": null,
   "metadata": {},
   "outputs": [],
   "source": []
  }
 ],
 "metadata": {
  "kernelspec": {
   "display_name": "Python 3.8.2 64-bit ('venv': conda)",
   "language": "python",
   "name": "python38264bitvenvconda647c0e0d86bc4c369b9338851a20503c"
  },
  "language_info": {
   "codemirror_mode": {
    "name": "ipython",
    "version": 3
   },
   "file_extension": ".py",
   "mimetype": "text/x-python",
   "name": "python",
   "nbconvert_exporter": "python",
   "pygments_lexer": "ipython3",
   "version": "3.8.2"
  }
 },
 "nbformat": 4,
 "nbformat_minor": 4
}
